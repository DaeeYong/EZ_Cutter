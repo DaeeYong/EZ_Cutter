{
 "cells": [
  {
   "cell_type": "raw",
   "metadata": {},
   "source": [
    "'''\n",
    "author : DaeYong Kim\n",
    "date : 2024-08-13\n",
    "last_modified : 2024-08-13\n",
    "'''"
   ]
  },
  {
   "cell_type": "code",
   "execution_count": 1,
   "metadata": {},
   "outputs": [],
   "source": [
    "import cv2\n",
    "from EZ_Cutter.DVideo import DVideo\n",
    "from EZ_Cutter.Editor import subClip2, get_xlsx2df, get_video_list\n",
    "import pandas as pd"
   ]
  },
  {
   "cell_type": "code",
   "execution_count": null,
   "metadata": {},
   "outputs": [],
   "source": [
    "'''\n",
    "1. xlsx에서 video 이름 받아오기\n",
    "2. video 이름을 바탕으로 비디오 경로 가져오기\n",
    "'''"
   ]
  },
  {
   "cell_type": "code",
   "execution_count": 14,
   "metadata": {},
   "outputs": [],
   "source": [
    "xlsx_path = '/Users/ivory/Documents/github/EZ_Cutter/clip_label/label.xlsx'\n",
    "output_video_path = '/Users/ivory/Documents/github/EZ_Cutter/result/'\n",
    "video_path = '/Users/ivory/Documents/github/EZ_Cutter/video/'\n",
    "\n",
    "df = get_xlsx2df(xlsx_path, 'Sheet1')"
   ]
  },
  {
   "cell_type": "code",
   "execution_count": 16,
   "metadata": {},
   "outputs": [
    {
     "name": "stdout",
     "output_type": "stream",
     "text": [
      "[idx: 0, video: GP043835.MP4, start: 587, end: 598, acitvity: Sitting]\n",
      "[idx: 1, video: GP043835.MP4, start: 598, end: 599, acitvity: Postural transition]\n",
      "[idx: 2, video: GP043835.MP4, start: 599, end: 604, acitvity: Locomotion]\n",
      "name:  /Users/ivory/Documents/github/EZ_Cutter/video/GP043835.MP4\n",
      "[idx: 3, video: GP043835.MP4, start: 604, end: 612, acitvity: Any other activity]\n",
      "[idx: 4, video: GP043835.MP4, start: 612, end: 614, acitvity: Locomotion]\n",
      "name:  /Users/ivory/Documents/github/EZ_Cutter/video/GP043835.MP4\n"
     ]
    },
    {
     "ename": "KeyboardInterrupt",
     "evalue": "",
     "output_type": "error",
     "traceback": [
      "\u001b[0;31m---------------------------------------------------------------------------\u001b[0m",
      "\u001b[0;31mKeyboardInterrupt\u001b[0m                         Traceback (most recent call last)",
      "Cell \u001b[0;32mIn[16], line 15\u001b[0m\n\u001b[1;32m     13\u001b[0m \u001b[38;5;28mprint\u001b[39m(\u001b[38;5;124m'\u001b[39m\u001b[38;5;124mname: \u001b[39m\u001b[38;5;124m'\u001b[39m,video_path \u001b[38;5;241m+\u001b[39m video_name)\n\u001b[1;32m     14\u001b[0m video \u001b[38;5;241m=\u001b[39m DVideo(video_path \u001b[38;5;241m+\u001b[39m video_name)\n\u001b[0;32m---> 15\u001b[0m \u001b[43msubClip2\u001b[49m\u001b[43m(\u001b[49m\u001b[43mvideo\u001b[49m\u001b[43m,\u001b[49m\u001b[43m \u001b[49m\u001b[43moutput_video_path\u001b[49m\u001b[43m \u001b[49m\u001b[38;5;241;43m+\u001b[39;49m\u001b[43m \u001b[49m\u001b[38;5;124;43mf\u001b[39;49m\u001b[38;5;124;43m'\u001b[39;49m\u001b[38;5;132;43;01m{\u001b[39;49;00m\u001b[43midx\u001b[49m\u001b[38;5;250;43m  \u001b[39;49m\u001b[38;5;241;43m+\u001b[39;49m\u001b[38;5;241;43m2\u001b[39;49m\u001b[38;5;132;43;01m}\u001b[39;49;00m\u001b[38;5;124;43m.mp4\u001b[39;49m\u001b[38;5;124;43m'\u001b[39;49m\u001b[43m,\u001b[49m\u001b[43m \u001b[49m\u001b[43mstart_time\u001b[49m\u001b[43m,\u001b[49m\u001b[43m \u001b[49m\u001b[43mend_time\u001b[49m\u001b[43m)\u001b[49m\n",
      "File \u001b[0;32m~/Documents/github/EZ_Cutter/test/EZ_Cutter/Editor.py:35\u001b[0m, in \u001b[0;36msubClip2\u001b[0;34m(video, output_video_path, start_time, end_time)\u001b[0m\n\u001b[1;32m     32\u001b[0m out \u001b[38;5;241m=\u001b[39m cv2\u001b[38;5;241m.\u001b[39mVideoWriter(output_video_path, fourcc, fps, (video\u001b[38;5;241m.\u001b[39mmeta[\u001b[38;5;124m'\u001b[39m\u001b[38;5;124mwidth\u001b[39m\u001b[38;5;124m'\u001b[39m], video\u001b[38;5;241m.\u001b[39mmeta[\u001b[38;5;124m'\u001b[39m\u001b[38;5;124mheight\u001b[39m\u001b[38;5;124m'\u001b[39m]))\n\u001b[1;32m     34\u001b[0m \u001b[38;5;66;03m# 시작 프레임으로 이동\u001b[39;00m\n\u001b[0;32m---> 35\u001b[0m \u001b[43mvideo\u001b[49m\u001b[38;5;241;43m.\u001b[39;49m\u001b[43mcap\u001b[49m\u001b[38;5;241;43m.\u001b[39;49m\u001b[43mset\u001b[49m\u001b[43m(\u001b[49m\u001b[43mcv2\u001b[49m\u001b[38;5;241;43m.\u001b[39;49m\u001b[43mCAP_PROP_POS_FRAMES\u001b[49m\u001b[43m,\u001b[49m\u001b[43m \u001b[49m\u001b[43mstart_frame\u001b[49m\u001b[43m)\u001b[49m\n\u001b[1;32m     37\u001b[0m \u001b[38;5;66;03m# 필요한 프레임만 읽기\u001b[39;00m\n\u001b[1;32m     38\u001b[0m \u001b[38;5;28;01mfor\u001b[39;00m frame_number \u001b[38;5;129;01min\u001b[39;00m \u001b[38;5;28mrange\u001b[39m(start_frame, end_frame \u001b[38;5;241m+\u001b[39m \u001b[38;5;241m1\u001b[39m):\n",
      "\u001b[0;31mKeyboardInterrupt\u001b[0m: "
     ]
    }
   ],
   "source": [
    "for idx, each_sample in df.iterrows():\n",
    "        video_name = each_sample['video_name']\n",
    "        start = each_sample['start']\n",
    "        end = each_sample['end']\n",
    "        activity = each_sample['activity']\n",
    "\n",
    "        start_time = 3600 * start.hour + 60 * start.minute + start.second\n",
    "        end_time = 3600 * end.hour + 60 * end.minute + end.second\n",
    "\n",
    "        print(f'[idx: {idx}, video: {video_name}, start: {start_time}, end: {end_time}, acitvity: {activity}]')\n",
    "\n",
    "        if activity == 'Locomotion':\n",
    "            print('name: ',video_path + video_name)\n",
    "            video = DVideo(video_path + video_name)\n",
    "            subClip2(video, output_video_path + f'{idx  +2}.mp4', start_time, end_time)"
   ]
  },
  {
   "cell_type": "code",
   "execution_count": 13,
   "metadata": {},
   "outputs": [
    {
     "data": {
      "text/plain": [
       "'12.mp4'"
      ]
     },
     "execution_count": 13,
     "metadata": {},
     "output_type": "execute_result"
    }
   ],
   "source": [
    "f'{12}.mp4'"
   ]
  },
  {
   "cell_type": "code",
   "execution_count": null,
   "metadata": {},
   "outputs": [],
   "source": []
  }
 ],
 "metadata": {
  "kernelspec": {
   "display_name": "Python 3",
   "language": "python",
   "name": "python3"
  },
  "language_info": {
   "codemirror_mode": {
    "name": "ipython",
    "version": 3
   },
   "file_extension": ".py",
   "mimetype": "text/x-python",
   "name": "python",
   "nbconvert_exporter": "python",
   "pygments_lexer": "ipython3",
   "version": "3.12.1"
  }
 },
 "nbformat": 4,
 "nbformat_minor": 2
}
